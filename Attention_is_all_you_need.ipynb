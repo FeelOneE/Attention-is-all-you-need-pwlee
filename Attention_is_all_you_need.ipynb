{
  "nbformat": 4,
  "nbformat_minor": 0,
  "metadata": {
    "colab": {
      "name": "Attention is all you need.ipynb",
      "provenance": [],
      "collapsed_sections": [],
      "authorship_tag": "ABX9TyPjpjZAXpyjnGg86grHh7rc",
      "include_colab_link": true
    },
    "kernelspec": {
      "name": "python3",
      "display_name": "Python 3"
    },
    "language_info": {
      "name": "python"
    }
  },
  "cells": [
    {
      "cell_type": "markdown",
      "metadata": {
        "id": "view-in-github",
        "colab_type": "text"
      },
      "source": [
        "<a href=\"https://colab.research.google.com/github/FeelOneE/Attention-is-all-you-need-pwlee/blob/main/Attention_is_all_you_need.ipynb\" target=\"_parent\"><img src=\"https://colab.research.google.com/assets/colab-badge.svg\" alt=\"Open In Colab\"/></a>"
      ]
    },
    {
      "cell_type": "code",
      "source": [
        "from google.colab import drive\n",
        "drive.mount('/content/drive')"
      ],
      "metadata": {
        "colab": {
          "base_uri": "https://localhost:8080/"
        },
        "id": "WcIwt_ml8_d4",
        "outputId": "4cda5540-0ea2-47a1-cef7-e3ca048a51c0"
      },
      "execution_count": null,
      "outputs": [
        {
          "output_type": "stream",
          "name": "stdout",
          "text": [
            "Mounted at /content/drive\n"
          ]
        }
      ]
    },
    {
      "cell_type": "code",
      "source": [
        "%pwd"
      ],
      "metadata": {
        "colab": {
          "base_uri": "https://localhost:8080/",
          "height": 35
        },
        "id": "6SOiYfOn9G0b",
        "outputId": "4687da78-1679-4927-a55b-9f1bc78a87ee"
      },
      "execution_count": null,
      "outputs": [
        {
          "output_type": "execute_result",
          "data": {
            "application/vnd.google.colaboratory.intrinsic+json": {
              "type": "string"
            },
            "text/plain": [
              "'/content'"
            ]
          },
          "metadata": {},
          "execution_count": 2
        }
      ]
    },
    {
      "cell_type": "code",
      "source": [
        "%cd /content/drive/MyDrive/스터디/기계이해"
      ],
      "metadata": {
        "colab": {
          "base_uri": "https://localhost:8080/"
        },
        "id": "5mHeKPh29RMI",
        "outputId": "96fbd033-b640-40e8-a5c8-c04c8181f11d"
      },
      "execution_count": null,
      "outputs": [
        {
          "output_type": "stream",
          "name": "stdout",
          "text": [
            "/content/drive/MyDrive/스터디/기계이해\n"
          ]
        }
      ]
    },
    {
      "cell_type": "markdown",
      "source": [
        "# (준비) 데이터셋 및 불용어(non breaking prefix) 데이터 다운로드"
      ],
      "metadata": {
        "id": "sBFM8ddN_kqE"
      }
    },
    {
      "cell_type": "code",
      "source": [
        "%cd data\n",
        "!wget http://www.statmt.org/europarl/v7/de-en.tgz\n",
        "!tar -xvf de-en.tgz\n",
        "%cd .."
      ],
      "metadata": {
        "colab": {
          "base_uri": "https://localhost:8080/"
        },
        "id": "iWJaOu6-9pyZ",
        "outputId": "d7949c94-e70d-4a57-d2b2-590cafb8e8b4"
      },
      "execution_count": null,
      "outputs": [
        {
          "output_type": "stream",
          "name": "stdout",
          "text": [
            "--2021-12-17 10:38:24--  http://www.statmt.org/europarl/v7/de-en.tgz\n",
            "Resolving www.statmt.org (www.statmt.org)... 129.215.197.184\n",
            "Connecting to www.statmt.org (www.statmt.org)|129.215.197.184|:80... connected.\n",
            "HTTP request sent, awaiting response... 301 Moved Permanently\n",
            "Location: https://www.statmt.org/europarl/v7/de-en.tgz [following]\n",
            "--2021-12-17 10:38:24--  https://www.statmt.org/europarl/v7/de-en.tgz\n",
            "Connecting to www.statmt.org (www.statmt.org)|129.215.197.184|:443... connected.\n",
            "HTTP request sent, awaiting response... 200 OK\n",
            "Length: 197785698 (189M) [application/x-gzip]\n",
            "Saving to: ‘de-en.tgz’\n",
            "\n",
            "de-en.tgz           100%[===================>] 188.62M  1.52MB/s    in 2m 4s   \n",
            "\n",
            "2021-12-17 10:40:28 (1.52 MB/s) - ‘de-en.tgz’ saved [197785698/197785698]\n",
            "\n",
            "europarl-v7.de-en.de\n",
            "europarl-v7.de-en.en\n"
          ]
        }
      ]
    },
    {
      "cell_type": "code",
      "source": [
        "%cd data\n",
        "!wget https://raw.githubusercontent.com/moses-smt/mosesdecoder/master/scripts/share/nonbreaking_prefixes/nonbreaking_prefix.de\n",
        "!wget https://raw.githubusercontent.com/moses-smt/mosesdecoder/master/scripts/share/nonbreaking_prefixes/nonbreaking_prefix.en\n",
        "%cd .."
      ],
      "metadata": {
        "colab": {
          "base_uri": "https://localhost:8080/"
        },
        "id": "kwvuTxKw-tFU",
        "outputId": "1d96a98d-8a08-4c26-915d-169908a1391c"
      },
      "execution_count": null,
      "outputs": [
        {
          "output_type": "stream",
          "name": "stdout",
          "text": [
            "--2021-12-17 10:50:33--  https://raw.githubusercontent.com/moses-smt/mosesdecoder/master/scripts/share/nonbreaking_prefixes/nonbreaking_prefix.de\n",
            "Resolving raw.githubusercontent.com (raw.githubusercontent.com)... 185.199.108.133, 185.199.109.133, 185.199.110.133, ...\n",
            "Connecting to raw.githubusercontent.com (raw.githubusercontent.com)|185.199.108.133|:443... connected.\n",
            "HTTP request sent, awaiting response... 200 OK\n",
            "Length: 1768 (1.7K) [text/plain]\n",
            "Saving to: ‘nonbreaking_prefix.de’\n",
            "\n",
            "nonbreaking_prefix. 100%[===================>]   1.73K  --.-KB/s    in 0.003s  \n",
            "\n",
            "2021-12-17 10:50:33 (531 KB/s) - ‘nonbreaking_prefix.de’ saved [1768/1768]\n",
            "\n",
            "--2021-12-17 10:50:33--  https://raw.githubusercontent.com/moses-smt/mosesdecoder/master/scripts/share/nonbreaking_prefixes/nonbreaking_prefix.en\n",
            "Resolving raw.githubusercontent.com (raw.githubusercontent.com)... 185.199.108.133, 185.199.109.133, 185.199.110.133, ...\n",
            "Connecting to raw.githubusercontent.com (raw.githubusercontent.com)|185.199.108.133|:443... connected.\n",
            "HTTP request sent, awaiting response... 200 OK\n",
            "Length: 1339 (1.3K) [text/plain]\n",
            "Saving to: ‘nonbreaking_prefix.en’\n",
            "\n",
            "nonbreaking_prefix. 100%[===================>]   1.31K  --.-KB/s    in 0s      \n",
            "\n",
            "2021-12-17 10:50:34 (20.0 MB/s) - ‘nonbreaking_prefix.en’ saved [1339/1339]\n",
            "\n"
          ]
        }
      ]
    },
    {
      "cell_type": "markdown",
      "source": [
        "# **step 1. 라이브러리 추가**"
      ],
      "metadata": {
        "id": "5O1Qs9cc_VGE"
      }
    },
    {
      "cell_type": "code",
      "source": [
        "import numpy as np\n",
        "import math\n",
        "import re\n",
        "import time\n",
        "\n",
        "import tensorflow as tf\n",
        "from tensorflow.keras import layers\n",
        "import tensorflow_datasets as tfds"
      ],
      "metadata": {
        "id": "iEJUmBOz-0NU"
      },
      "execution_count": null,
      "outputs": []
    },
    {
      "cell_type": "markdown",
      "source": [
        "# step 2. 데이터 전처리"
      ],
      "metadata": {
        "id": "FpHWeMB0_4ka"
      }
    },
    {
      "cell_type": "code",
      "execution_count": null,
      "metadata": {
        "id": "FzWBl0miORKc",
        "colab": {
          "base_uri": "https://localhost:8080/"
        },
        "outputId": "767962eb-baa7-491b-f9ba-e8aeb7ca868f"
      },
      "outputs": [
        {
          "output_type": "stream",
          "name": "stdout",
          "text": [
            "Resumption of the session\n",
            "I declare resumed the se\n",
            "Wiederaufnahme der Sitzungsperiode\n",
            "Ich erkläre die\n"
          ]
        }
      ],
      "source": [
        "with open(\"data/europarl-v7.de-en.en\", mode='r', encoding=\"utf-8\") as f:\n",
        "    text_en = f.read()\n",
        "\n",
        "with open(\"data/europarl-v7.de-en.de\", mode='r', encoding=\"utf-8\") as f:\n",
        "    text_de = f.read()\n",
        "\n",
        "print(text_en[:50])\n",
        "print(text_de[:50])"
      ]
    },
    {
      "cell_type": "code",
      "source": [
        "with open(\"data/nonbreaking_prefix.en\", mode=\"r\", encoding=\"utf-8\") as f:\n",
        "  non_breaking_prefix_en = f.read()\n",
        "with open(\"data/nonbreaking_prefix.de\", mode=\"r\", encoding=\"utf-8\") as f:\n",
        "  non_breaking_prefix_de = f.read()\n",
        "\n",
        "print(non_breaking_prefix_en[:5])\n",
        "print(non_breaking_prefix_de[:5])"
      ],
      "metadata": {
        "colab": {
          "base_uri": "https://localhost:8080/"
        },
        "id": "gQmag_Pc__vj",
        "outputId": "c9ca83b3-0ba0-4365-daa3-1dfc51bdec95"
      },
      "execution_count": null,
      "outputs": [
        {
          "output_type": "stream",
          "name": "stdout",
          "text": [
            "#Anyt\n",
            "#Anyt\n"
          ]
        }
      ]
    },
    {
      "cell_type": "code",
      "source": [
        ""
      ],
      "metadata": {
        "id": "2yc0naN_CGNj"
      },
      "execution_count": null,
      "outputs": []
    }
  ]
}