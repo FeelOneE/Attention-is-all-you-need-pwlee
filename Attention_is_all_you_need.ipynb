{
  "cells": [
    {
      "cell_type": "markdown",
      "metadata": {
        "id": "view-in-github",
        "colab_type": "text"
      },
      "source": [
        "<a href=\"https://colab.research.google.com/github/FeelOneE/Attention-is-all-you-need-pwlee/blob/main/Attention_is_all_you_need.ipynb\" target=\"_parent\"><img src=\"https://colab.research.google.com/assets/colab-badge.svg\" alt=\"Open In Colab\"/></a>"
      ]
    },
    {
      "cell_type": "markdown",
      "source": [
        "https://github.com/ArazShilabin/english-to-german-translator-using-transformers-from-scratch/blob/main/en_de_translator.ipynb"
      ],
      "metadata": {
        "id": "JocbbF8Vslw0"
      }
    },
    {
      "cell_type": "code",
      "execution_count": null,
      "metadata": {
        "colab": {
          "base_uri": "https://localhost:8080/"
        },
        "id": "WcIwt_ml8_d4",
        "outputId": "96fbdb78-555a-4f9b-a01c-5083f3159ebd"
      },
      "outputs": [
        {
          "output_type": "stream",
          "name": "stdout",
          "text": [
            "Mounted at /content/drive\n"
          ]
        }
      ],
      "source": [
        "from google.colab import drive\n",
        "drive.mount('/content/drive')"
      ]
    },
    {
      "cell_type": "code",
      "execution_count": null,
      "metadata": {
        "colab": {
          "base_uri": "https://localhost:8080/",
          "height": 36
        },
        "id": "6SOiYfOn9G0b",
        "outputId": "bba8813c-1989-4033-caf4-2f05fc613028"
      },
      "outputs": [
        {
          "output_type": "execute_result",
          "data": {
            "application/vnd.google.colaboratory.intrinsic+json": {
              "type": "string"
            },
            "text/plain": [
              "'/content'"
            ]
          },
          "metadata": {},
          "execution_count": 2
        }
      ],
      "source": [
        "%pwd"
      ]
    },
    {
      "cell_type": "code",
      "execution_count": null,
      "metadata": {
        "colab": {
          "base_uri": "https://localhost:8080/"
        },
        "id": "5mHeKPh29RMI",
        "outputId": "d4ab8293-95bd-4b75-fdee-0f74effe225b"
      },
      "outputs": [
        {
          "output_type": "stream",
          "name": "stdout",
          "text": [
            "/content/drive/MyDrive/스터디/기계이해\n"
          ]
        }
      ],
      "source": [
        "%cd /content/drive/MyDrive/스터디/기계이해"
      ]
    },
    {
      "cell_type": "markdown",
      "metadata": {
        "id": "sBFM8ddN_kqE"
      },
      "source": [
        "# (준비) 데이터셋 및 불용어(non breaking prefix) 데이터 다운로드"
      ]
    },
    {
      "cell_type": "code",
      "execution_count": null,
      "metadata": {
        "colab": {
          "base_uri": "https://localhost:8080/"
        },
        "id": "iWJaOu6-9pyZ",
        "outputId": "d7949c94-e70d-4a57-d2b2-590cafb8e8b4"
      },
      "outputs": [
        {
          "name": "stdout",
          "output_type": "stream",
          "text": [
            "--2021-12-17 10:38:24--  http://www.statmt.org/europarl/v7/de-en.tgz\n",
            "Resolving www.statmt.org (www.statmt.org)... 129.215.197.184\n",
            "Connecting to www.statmt.org (www.statmt.org)|129.215.197.184|:80... connected.\n",
            "HTTP request sent, awaiting response... 301 Moved Permanently\n",
            "Location: https://www.statmt.org/europarl/v7/de-en.tgz [following]\n",
            "--2021-12-17 10:38:24--  https://www.statmt.org/europarl/v7/de-en.tgz\n",
            "Connecting to www.statmt.org (www.statmt.org)|129.215.197.184|:443... connected.\n",
            "HTTP request sent, awaiting response... 200 OK\n",
            "Length: 197785698 (189M) [application/x-gzip]\n",
            "Saving to: ‘de-en.tgz’\n",
            "\n",
            "de-en.tgz           100%[===================>] 188.62M  1.52MB/s    in 2m 4s   \n",
            "\n",
            "2021-12-17 10:40:28 (1.52 MB/s) - ‘de-en.tgz’ saved [197785698/197785698]\n",
            "\n",
            "europarl-v7.de-en.de\n",
            "europarl-v7.de-en.en\n"
          ]
        }
      ],
      "source": [
        "%cd data\n",
        "!wget http://www.statmt.org/europarl/v7/de-en.tgz\n",
        "!tar -xvf de-en.tgz\n",
        "%cd .."
      ]
    },
    {
      "cell_type": "code",
      "execution_count": null,
      "metadata": {
        "colab": {
          "base_uri": "https://localhost:8080/"
        },
        "id": "kwvuTxKw-tFU",
        "outputId": "1d96a98d-8a08-4c26-915d-169908a1391c"
      },
      "outputs": [
        {
          "name": "stdout",
          "output_type": "stream",
          "text": [
            "--2021-12-17 10:50:33--  https://raw.githubusercontent.com/moses-smt/mosesdecoder/master/scripts/share/nonbreaking_prefixes/nonbreaking_prefix.de\n",
            "Resolving raw.githubusercontent.com (raw.githubusercontent.com)... 185.199.108.133, 185.199.109.133, 185.199.110.133, ...\n",
            "Connecting to raw.githubusercontent.com (raw.githubusercontent.com)|185.199.108.133|:443... connected.\n",
            "HTTP request sent, awaiting response... 200 OK\n",
            "Length: 1768 (1.7K) [text/plain]\n",
            "Saving to: ‘nonbreaking_prefix.de’\n",
            "\n",
            "nonbreaking_prefix. 100%[===================>]   1.73K  --.-KB/s    in 0.003s  \n",
            "\n",
            "2021-12-17 10:50:33 (531 KB/s) - ‘nonbreaking_prefix.de’ saved [1768/1768]\n",
            "\n",
            "--2021-12-17 10:50:33--  https://raw.githubusercontent.com/moses-smt/mosesdecoder/master/scripts/share/nonbreaking_prefixes/nonbreaking_prefix.en\n",
            "Resolving raw.githubusercontent.com (raw.githubusercontent.com)... 185.199.108.133, 185.199.109.133, 185.199.110.133, ...\n",
            "Connecting to raw.githubusercontent.com (raw.githubusercontent.com)|185.199.108.133|:443... connected.\n",
            "HTTP request sent, awaiting response... 200 OK\n",
            "Length: 1339 (1.3K) [text/plain]\n",
            "Saving to: ‘nonbreaking_prefix.en’\n",
            "\n",
            "nonbreaking_prefix. 100%[===================>]   1.31K  --.-KB/s    in 0s      \n",
            "\n",
            "2021-12-17 10:50:34 (20.0 MB/s) - ‘nonbreaking_prefix.en’ saved [1339/1339]\n",
            "\n"
          ]
        }
      ],
      "source": [
        "%cd data\n",
        "!wget https://raw.githubusercontent.com/moses-smt/mosesdecoder/master/scripts/share/nonbreaking_prefixes/nonbreaking_prefix.de\n",
        "!wget https://raw.githubusercontent.com/moses-smt/mosesdecoder/master/scripts/share/nonbreaking_prefixes/nonbreaking_prefix.en\n",
        "%cd .."
      ]
    },
    {
      "cell_type": "code",
      "execution_count": null,
      "metadata": {
        "colab": {
          "base_uri": "https://localhost:8080/"
        },
        "id": "cfrhPzrt7_1y",
        "outputId": "bdd02427-ead3-4cf3-d2c1-280ddaa88b2e"
      },
      "outputs": [
        {
          "output_type": "stream",
          "name": "stdout",
          "text": [
            "/content/drive/My Drive/스터디/기계이해/data\n",
            "total 2298971\n",
            "-rw------- 1 root root 296468668 Dec 22 07:40 cleaning.de-en.en\n",
            "-rw------- 1 root root 622086459 Dec 22 07:40 cleaning.en-de.de\n",
            "-rw------- 1 root root 622086459 Dec 22 06:08 cleaning.en-de.en\n",
            "-rw------- 1 root root 197785698 May 16  2012 de-en.tgz\n",
            "-rw------- 1 root root 328463491 Nov 21  2011 europarl-v7.de-en.de\n",
            "-rw------- 1 root root 287250069 Nov 21  2011 europarl-v7.de-en.en\n",
            "-rw------- 1 root root      1768 Dec 17 10:50 nonbreaking_prefix.de\n",
            "-rw------- 1 root root      1339 Dec 17 10:50 nonbreaking_prefix.en\n",
            "/content/drive/My Drive/스터디/기계이해\n"
          ]
        }
      ],
      "source": [
        "%cd data\n",
        "%ls -al\n",
        "%cd .."
      ]
    },
    {
      "cell_type": "markdown",
      "metadata": {
        "id": "5O1Qs9cc_VGE"
      },
      "source": [
        "# **step 1. 라이브러리 추가**"
      ]
    },
    {
      "cell_type": "code",
      "execution_count": null,
      "metadata": {
        "id": "iEJUmBOz-0NU"
      },
      "outputs": [],
      "source": [
        "import numpy as np\n",
        "import math\n",
        "import re\n",
        "import time\n",
        "\n",
        "import tensorflow as tf\n",
        "from tensorflow.keras import layers\n",
        "import tensorflow_datasets as tfds"
      ]
    },
    {
      "cell_type": "markdown",
      "metadata": {
        "id": "FpHWeMB0_4ka"
      },
      "source": [
        "# step 2. 데이터 전처리"
      ]
    },
    {
      "cell_type": "code",
      "execution_count": null,
      "metadata": {
        "id": "FzWBl0miORKc",
        "colab": {
          "base_uri": "https://localhost:8080/"
        },
        "outputId": "0b3a06b8-c9b1-47c0-b2f2-98f3078c0519"
      },
      "outputs": [
        {
          "output_type": "stream",
          "name": "stdout",
          "text": [
            "Resumption of the session\n",
            "I declare resumed the se\n",
            "Wiederaufnahme der Sitzungsperiode\n",
            "Ich erkläre die\n"
          ]
        }
      ],
      "source": [
        "with open(\"data/europarl-v7.de-en.en\", mode='r', encoding=\"utf-8\") as f:\n",
        "    text_en = f.read()\n",
        "\n",
        "with open(\"data/europarl-v7.de-en.de\", mode='r', encoding=\"utf-8\") as f:\n",
        "    text_de = f.read()\n",
        "\n",
        "print(text_en[:50])\n",
        "print(text_de[:50])\n"
      ]
    },
    {
      "cell_type": "code",
      "execution_count": null,
      "metadata": {
        "colab": {
          "base_uri": "https://localhost:8080/"
        },
        "id": "2yc0naN_CGNj",
        "outputId": "8c12c084-690f-4a6c-a62d-f12376303c50"
      },
      "outputs": [
        {
          "output_type": "execute_result",
          "data": {
            "text/plain": [
              "['A', 'B', 'C', 'D', 'E']"
            ]
          },
          "metadata": {},
          "execution_count": 6
        }
      ],
      "source": [
        "with open(\"data/nonbreaking_prefix.en\", mode=\"r\", encoding=\"utf-8\") as f:\n",
        "  non_breaking_prefix_en = f.readlines()\n",
        "\n",
        "tmp = []\n",
        "for line in non_breaking_prefix_en:\n",
        "  if line[0] == \"#\" or line[0] == \"\\n\" :\n",
        "    pass\n",
        "  else:\n",
        "    tmp.append(  (line.replace(\"\\n\",\"\")).replace(\"#NUMERIC_ONLY#\",\"\").strip()  )\n",
        "non_breaking_prefix_en = tmp\n",
        "non_breaking_prefix_en[:5]"
      ]
    },
    {
      "cell_type": "code",
      "execution_count": null,
      "metadata": {
        "colab": {
          "base_uri": "https://localhost:8080/"
        },
        "id": "qcbNAezw9ybC",
        "outputId": "32490d6d-ea22-4933-d5a9-92305a5b74a2"
      },
      "outputs": [
        {
          "output_type": "execute_result",
          "data": {
            "text/plain": [
              "['A', 'B', 'C', 'D', 'E']"
            ]
          },
          "metadata": {},
          "execution_count": 7
        }
      ],
      "source": [
        "with open(\"data/nonbreaking_prefix.de\", mode=\"r\", encoding=\"utf-8\") as f:\n",
        "  non_breaking_prefix_de = f.readlines()\n",
        "\n",
        "tmp = []\n",
        "for line in non_breaking_prefix_de:\n",
        "  if line[0] == \"#\" or line[0] == \"\\n\" :\n",
        "    pass\n",
        "  else:\n",
        "    tmp.append(  (line.replace(\"\\n\",\"\")).replace(\"#NUMERIC_ONLY#\",\"\").strip()  )\n",
        "non_breaking_prefix_de = tmp\n",
        "non_breaking_prefix_de[:5]"
      ]
    },
    {
      "cell_type": "code",
      "source": [
        "#non_breaking_prefix_en = non_breaking_prefix_en.split(\"\\n\")\n",
        "non_breaking_prefix_en = [' ' + pref.lower() + '.' for pref in non_breaking_prefix_en]\n",
        "#non_breaking_prefix_de = non_breaking_prefix_de.split(\"\\n\")\n",
        "non_breaking_prefix_de = [' ' + pref.lower() + '.' for pref in non_breaking_prefix_de]\n",
        "print(non_breaking_prefix_en[:5])\n",
        "print(non_breaking_prefix_de[:5])"
      ],
      "metadata": {
        "colab": {
          "base_uri": "https://localhost:8080/"
        },
        "id": "m3h3MICt0I6-",
        "outputId": "e2657f2d-94f9-446c-9dfc-17f1ad1eaaed"
      },
      "execution_count": null,
      "outputs": [
        {
          "output_type": "stream",
          "name": "stdout",
          "text": [
            "[' a.', ' b.', ' c.', ' d.', ' e.']\n",
            "[' a.', ' b.', ' c.', ' d.', ' e.']\n"
          ]
        }
      ]
    },
    {
      "cell_type": "code",
      "source": [
        "for prefix in non_breaking_prefix_en:\n",
        "    text_en = text_en.replace(prefix, prefix + '###')\n",
        "text_en = re.sub(r\"\\.(?=[0-9]|[a-z]|[A-Z])\", \".###\", text_en)\n",
        "text_en = re.sub(r\"\\.###\", '', text_en)\n",
        "text_en = re.sub(r\" +\", ' ', text_en)\n",
        "text_en = text_en.replace('###', ' ')\n",
        "\n",
        "text_en = text_en.split(\"\\n\")\n",
        "\n",
        "for prefix in non_breaking_prefix_de:\n",
        "    text_de = text_de.replace(prefix, prefix + '###')\n",
        "text_de = re.sub(r\"\\.(?=[0-9]|[a-z]|[A-Z])\", \".###\", text_de)\n",
        "text_de = re.sub(r\"\\.###\", '', text_de)\n",
        "text_de = re.sub(r\" +\", ' ', text_de)\n",
        "text_de = text_de.replace('###', ' ')\n",
        "\n",
        "text_de = text_de.split(\"\\n\")"
      ],
      "metadata": {
        "id": "esPHoblet5Xf"
      },
      "execution_count": null,
      "outputs": []
    },
    {
      "cell_type": "code",
      "source": [
        "print(text_en[:5])\n",
        "print(text_de[:5])"
      ],
      "metadata": {
        "colab": {
          "base_uri": "https://localhost:8080/"
        },
        "id": "OR3NgoEUxGXA",
        "outputId": "dd4abeac-3090-43a5-b60f-c26f0135783c"
      },
      "execution_count": null,
      "outputs": [
        {
          "output_type": "stream",
          "name": "stdout",
          "text": [
            "['Resumption of the session', 'I declare resumed the session of the European Parliament adjourned on Friday 17 December 1999, and I would like once again to wish you a happy new year in the hope that you enjoyed a pleasant festive period.', \"Although, as you will have seen, the dreaded 'millennium bug' failed to materialise, still the people in a number of countries suffered a series of natural disasters that truly were dreadful.\", 'You have requested a debate on this subject in the course of the next few days, during this part-session.', \"In the meantime, I should like to observe a minute' s silence, as a number of Members have requested, on behalf of all the victims concerned, particularly those of the terrible storms, in the various countries of the European Union.\"]\n",
            "['Wiederaufnahme der Sitzungsperiode', 'Ich erkläre die am Freitag, dem 17 Dezember unterbrochene Sitzungsperiode des Europäischen Parlaments für wiederaufgenommen, wünsche Ihnen nochmals alles Gute zum Jahreswechsel und hoffe, daß Sie schöne Ferien hatten.', 'Wie Sie feststellen konnten, ist der gefürchtete \"Millenium-Bug \" nicht eingetreten. Doch sind Bürger einiger unserer Mitgliedstaaten Opfer von schrecklichen Naturkatastrophen geworden.', 'Im Parlament besteht der Wunsch nach einer Aussprache im Verlauf dieser Sitzungsperiode in den nächsten Tagen.', 'Heute möchte ich Sie bitten - das ist auch der Wunsch einiger Kolleginnen und Kollegen -, allen Opfern der Stürme, insbesondere in den verschiedenen Ländern der Europäischen Union, in einer Schweigeminute zu gedenken.']\n"
          ]
        }
      ]
    },
    {
      "cell_type": "code",
      "source": [
        "# 전처리한 데이터 저장\n",
        "with open(\"data/cleaning.de-en.en\",\"w\") as f:\n",
        "  f.write('\\n'.join(text_en))\n",
        "\n",
        "with open(\"data/cleaning.en-de.de\",\"w\") as f:\n",
        "  f.write('\\n'.join(text_de))"
      ],
      "metadata": {
        "id": "IcsUF0roun_v"
      },
      "execution_count": null,
      "outputs": []
    },
    {
      "cell_type": "code",
      "source": [
        "# 전처리한 데이터 불러오기\n",
        "with open(\"data/cleaning.de-en.en\",\"r+\") as f:\n",
        "  text_en = f.read()\n",
        "\n",
        "with open(\"data/cleaning.en-de.de\",\"r+\") as f:\n",
        "  text_de = f.read()"
      ],
      "metadata": {
        "id": "ZYq2i8aqu_xr"
      },
      "execution_count": null,
      "outputs": []
    },
    {
      "cell_type": "code",
      "source": [
        "print(text_en[:50])\n",
        "print(text_de[:50])"
      ],
      "metadata": {
        "colab": {
          "base_uri": "https://localhost:8080/"
        },
        "id": "qVnuH-XPwliY",
        "outputId": "74c38af9-f4de-46f3-cf41-ff07ca0e9350"
      },
      "execution_count": null,
      "outputs": [
        {
          "output_type": "stream",
          "name": "stdout",
          "text": [
            "Resumption of the session\n",
            "I declare resumed the se\n",
            "Wiederaufnahme der Sitzungsperiode\n",
            "Ich erkläre die\n"
          ]
        }
      ]
    },
    {
      "cell_type": "markdown",
      "source": [
        "# stop 3. 토크나이저\n",
        "> 토크나이저 :  각 텍스트에 대응하는 숫자들을 이해한다. 그러므로, 우리는 어떤 텍스트를 어떤식으로 분리해서, 분리된 텍스트를 특정한 숫자(id)에 대응시키고, 해당 id를 모델의 입력으로 넣어주는 모듈.\n",
        "크게 3가지 방식이 사용된다 : word-based, character-based, subword-based.\n",
        "\n",
        ">  subword-based : word-based와 character-based 사이의 방식이다. 자주 사용되는 단어들은 subword로 분리하지 않고, 자주 등장하지 않는 단어들은 의미있는 subword로 분리하는 방법이다. 예를 들어, dogs라는 단어는 자주 사용하는 dog와 ##s 로 분리할 수 있다. 영어에서 가장 좋은 성능을 보이고 있느느 tokenizer 이다.\n",
        "\n",
        "> \"##prefix' : BERT가 사용하는 subword tokenizer인 wordpiece tokenizer에서 사용하는 방식인데, 특정 token 앞에 ##가 붙는다면 해당 token은 독립적으로 사용할 수 있는 token이 아닌, 다른 단어를 구성하는 일부라는 의미이다.\n",
        "\n"
      ],
      "metadata": {
        "id": "ZjGSJod6ep28"
      }
    },
    {
      "cell_type": "code",
      "source": [
        "!pip install transformers"
      ],
      "metadata": {
        "id": "ZU_Cbkpwf4Mf"
      },
      "execution_count": null,
      "outputs": []
    },
    {
      "cell_type": "code",
      "source": [
        "%tensorflow_version 2.x\n",
        "from transformers import AutoTokenizer\n",
        "\n",
        "tokenizer_en = AutoTokenizer.from_pretrained('bert-base-uncased')\n",
        "tokenizer_de = AutoTokenizer.from_pretrained('GroNLP/bert-base-dutch-cased')"
      ],
      "metadata": {
        "id": "jYB0hz-VfwUe"
      },
      "execution_count": null,
      "outputs": []
    },
    {
      "cell_type": "code",
      "source": [
        "tokenizer_en.vocab_size, tokenizer_de.vocab_size"
      ],
      "metadata": {
        "colab": {
          "base_uri": "https://localhost:8080/"
        },
        "id": "lFjHEjDkjRQF",
        "outputId": "33efa88c-4cd9-413d-d92d-48fda770ea26"
      },
      "execution_count": null,
      "outputs": [
        {
          "output_type": "execute_result",
          "data": {
            "text/plain": [
              "(30522, 30073)"
            ]
          },
          "metadata": {},
          "execution_count": 16
        }
      ]
    },
    {
      "cell_type": "code",
      "source": [
        "encoded_input = tokenizer_en(text_en, return_tensors='tf')\n",
        "encoded_input"
      ],
      "metadata": {
        "id": "vfkqVGJGtunv",
        "colab": {
          "base_uri": "https://localhost:8080/"
        },
        "outputId": "69cf0589-5b3b-41dd-f600-fc3732fb5f90"
      },
      "execution_count": null,
      "outputs": [
        {
          "output_type": "stream",
          "name": "stderr",
          "text": [
            "Token indices sequence length is longer than the specified maximum sequence length for this model (55979209 > 512). Running this sequence through the model will result in indexing errors\n"
          ]
        },
        {
          "output_type": "execute_result",
          "data": {
            "text/plain": [
              "{'input_ids': <tf.Tensor: shape=(1, 55979209), dtype=int32, numpy=array([[  101, 24501, 24237, ...,  1012,  1007,   102]], dtype=int32)>, 'token_type_ids': <tf.Tensor: shape=(1, 55979209), dtype=int32, numpy=array([[0, 0, 0, ..., 0, 0, 0]], dtype=int32)>, 'attention_mask': <tf.Tensor: shape=(1, 55979209), dtype=int32, numpy=array([[1, 1, 1, ..., 1, 1, 1]], dtype=int32)>}"
            ]
          },
          "metadata": {},
          "execution_count": 17
        }
      ]
    },
    {
      "cell_type": "code",
      "source": [
        "encoded_output = tokenizer_de(text_de, return_tensors='tf')\n",
        "encoded_output[:5] "
      ],
      "metadata": {
        "id": "WQZFbzFl-AVY",
        "colab": {
          "base_uri": "https://localhost:8080/"
        },
        "outputId": "ef8eb9a7-68b6-4a61-a3db-fac4eea4a7a2"
      },
      "execution_count": null,
      "outputs": [
        {
          "output_type": "stream",
          "name": "stderr",
          "text": [
            "Token indices sequence length is longer than the specified maximum sequence length for this model (130291259 > 512). Running this sequence through the model will result in indexing errors\n"
          ]
        },
        {
          "output_type": "execute_result",
          "data": {
            "text/plain": [
              "[Encoding(num_tokens=130291259, attributes=[ids, type_ids, tokens, offsets, attention_mask, special_tokens_mask, overflowing])]"
            ]
          },
          "metadata": {},
          "execution_count": 18
        }
      ]
    },
    {
      "cell_type": "code",
      "source": [
        "tokenizer_en.vocab_size, tokenizer_de.vocab_size"
      ],
      "metadata": {
        "colab": {
          "base_uri": "https://localhost:8080/"
        },
        "id": "l5wyBU-a50Z0",
        "outputId": "979d5b7c-71af-4b7c-d1e7-1d82f1001c4a"
      },
      "execution_count": null,
      "outputs": [
        {
          "output_type": "execute_result",
          "data": {
            "text/plain": [
              "(30522, 30073)"
            ]
          },
          "metadata": {},
          "execution_count": 26
        }
      ]
    },
    {
      "cell_type": "code",
      "source": [
        "VOCAB_SIZE_EN = tokenizer_en.vocab_size + 2\n",
        "VOCAB_SIZE_DE = tokenizer_de.vocab_size + 2\n",
        "\n",
        "# we put start and end tokens as size-1 and size-2 which are the same as\n",
        "# tokenizer_size and tokenizer_size+1 because the words are from [0 to ts-1]\n",
        "# tokenize_en.encode(sentence) give a list then list + list + list appends them\n",
        "inputs = [[VOCAB_SIZE_EN-2] + tokenizer_en.encode(sentence) + [VOCAB_SIZE_EN-1]\n",
        "          for sentence in text_en]\n",
        "outputs = [[VOCAB_SIZE_DE-2] + tokenizer_de.encode(sentence) + [VOCAB_SIZE_DE-1]\n",
        "          for sentence in text_de]"
      ],
      "metadata": {
        "id": "f4RN0QqpdX3d"
      },
      "execution_count": null,
      "outputs": []
    },
    {
      "cell_type": "code",
      "source": [
        ""
      ],
      "metadata": {
        "id": "VcNdLsfVdeFC"
      },
      "execution_count": null,
      "outputs": []
    },
    {
      "cell_type": "markdown",
      "source": [
        "# step4. 모델 설계"
      ],
      "metadata": {
        "id": "eYCWADlEOm-F"
      }
    },
    {
      "cell_type": "markdown",
      "source": [
        "Positional Encoding\n",
        "> 트랜스포머는 RNN이 없기 때문에 위치에 대한 정보를 주입해야 한다.\n",
        "> ![스크린샷 2021-12-22 오후 5.41.24.png](data:image/png;base64,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)\n"
      ],
      "metadata": {
        "id": "-1BQVYj9Ot27"
      }
    },
    {
      "cell_type": "code",
      "source": [
        "class PositionalEncoding(tf.keras.layers.Layer):\n",
        "  def __init__(self, position, d_model):\n",
        "    super(PositionalEncoding, self).__init__()\n",
        "    self.pos_encoding = self.positional_encoding(position, d_model)\n",
        "\n",
        "  def get_angles(self, position, i, d_model):\n",
        "    angles = 1 / tf.pow(10000, (2 * (i // 2)) / tf.cast(d_model, tf.float32))\n",
        "    return position * angles\n",
        "\n",
        "  def positional_encoding(self, position, d_model):\n",
        "    angle_rads = self.get_angles(\n",
        "        position=tf.range(position, dtype=tf.float32)[:, tf.newaxis],\n",
        "        i=tf.range(d_model, dtype=tf.float32)[tf.newaxis, :],\n",
        "        d_model=d_model)\n",
        "\n",
        "    # 배열의 짝수 인덱스(2i)에는 사인 함수 적용\n",
        "    sines = tf.math.sin(angle_rads[:, 0::2])\n",
        "\n",
        "    # 배열의 홀수 인덱스(2i+1)에는 코사인 함수 적용\n",
        "    cosines = tf.math.cos(angle_rads[:, 1::2])\n",
        "\n",
        "    angle_rads = np.zeros(angle_rads.shape)\n",
        "    angle_rads[:, 0::2] = sines\n",
        "    angle_rads[:, 1::2] = cosines\n",
        "    pos_encoding = tf.constant(angle_rads)\n",
        "    pos_encoding = pos_encoding[tf.newaxis, ...]\n",
        "\n",
        "    print(pos_encoding.shape)\n",
        "    return tf.cast(pos_encoding, tf.float32)\n",
        "\n",
        "  def call(self, inputs):\n",
        "    return inputs + self.pos_encoding[:, :tf.shape(inputs)[1], :]"
      ],
      "metadata": {
        "id": "-z9HGMEaOsEz"
      },
      "execution_count": null,
      "outputs": []
    },
    {
      "cell_type": "markdown",
      "source": [
        "Attention"
      ],
      "metadata": {
        "id": "7alMUDxFTn75"
      }
    },
    {
      "cell_type": "code",
      "source": [
        "def scaled_dot_product_attention(query, key, value, mask):\n",
        "  # query 크기 : (batch_size, num_heads, query의 문장 길이, d_model/num_heads)\n",
        "  # key 크기 : (batch_size, num_heads, key의 문장 길이, d_model/num_heads)\n",
        "  # value 크기 : (batch_size, num_heads, value의 문장 길이, d_model/num_heads)\n",
        "  # padding_mask : (batch_size, 1, 1, key의 문장 길이)\n",
        "\n",
        "  # Q와 K의 곱. 어텐션 스코어 행렬.\n",
        "  matmul_qk = tf.matmul(query, key, transpose_b=True)\n",
        "\n",
        "  # 스케일링\n",
        "  # dk의 루트값으로 나눠준다.\n",
        "  depth = tf.cast(tf.shape(key)[-1], tf.float32)\n",
        "  logits = matmul_qk / tf.math.sqrt(depth)\n",
        "\n",
        "  # 마스킹. 어텐션 스코어 행렬의 마스킹 할 위치에 매우 작은 음수값을 넣는다.\n",
        "  # 매우 작은 값이므로 소프트맥스 함수를 지나면 행렬의 해당 위치의 값은 0이 된다.\n",
        "  if mask is not None:\n",
        "    logits += (mask * -1e9)\n",
        "\n",
        "  # 소프트맥스 함수는 마지막 차원인 key의 문장 길이 방향으로 수행된다.\n",
        "  # attention weight : (batch_size, num_heads, query의 문장 길이, key의 문장 길이)\n",
        "  attention_weights = tf.nn.softmax(logits, axis=-1)\n",
        "\n",
        "  # output : (batch_size, num_heads, query의 문장 길이, d_model/num_heads)\n",
        "  output = tf.matmul(attention_weights, value)\n",
        "\n",
        "  return output, attention_weights"
      ],
      "metadata": {
        "id": "7JPqMLODTlSp"
      },
      "execution_count": null,
      "outputs": []
    },
    {
      "cell_type": "code",
      "source": [
        "import numpy as np\n",
        "import torch as T\n",
        "\n",
        "  "
      ],
      "metadata": {
        "id": "3a060-Q5V9nJ"
      },
      "execution_count": null,
      "outputs": []
    },
    {
      "cell_type": "markdown",
      "source": [
        ""
      ],
      "metadata": {
        "id": "bUo19YjcGyeJ"
      }
    },
    {
      "cell_type": "code",
      "source": [
        "lists = [1,2,3,4]\n",
        "lists[-1]"
      ],
      "metadata": {
        "colab": {
          "base_uri": "https://localhost:8080/"
        },
        "id": "PS5NIutIoYub",
        "outputId": "bdb9b96e-232c-412c-c6da-b788cddf669e"
      },
      "execution_count": null,
      "outputs": [
        {
          "output_type": "execute_result",
          "data": {
            "text/plain": [
              "4"
            ]
          },
          "metadata": {},
          "execution_count": 28
        }
      ]
    },
    {
      "cell_type": "code",
      "source": [
        "class MultiHeadAttention(tf.keras.layers.Layer):\n",
        "\n",
        "  def __init__(self, d_model, num_heads, name=\"multi_head_attention\"):\n",
        "    super(MultiHeadAttention, self).__init__(name=name)\n",
        "    self.num_heads = num_heads\n",
        "    self.d_model = d_model\n",
        "\n",
        "    # 가정 설정문, 뒤에 조건이 일치하지 않으면 에러\n",
        "    assert d_model % self.num_heads == 0\n",
        "\n",
        "    # d_model을 num_heads로 나눈 값.\n",
        "    # 논문 기준 : 64\n",
        "    self.depth = d_model // self.num_heads\n",
        "\n",
        "    # WQ, WK, WV에 해당하는 밀집층 정의\n",
        "    self.query_dense = tf.keras.layers.Dense(units=d_model)\n",
        "    self.key_dense = tf.keras.layers.Dense(units=d_model)\n",
        "    self.value_dense = tf.keras.layers.Dense(units=d_model)\n",
        "\n",
        "    # WO에 해당하는 밀집층 정의\n",
        "    self.dense = tf.keras.layers.Dense(units=d_model)\n",
        "\n",
        "  # num_heads 개수만큼 q, k, v를 split하는 함수\n",
        "  def split_heads(self, inputs, batch_size):\n",
        "    inputs = tf.reshape(\n",
        "        inputs, shape=(batch_size, -1, self.num_heads, self.depth))\n",
        "    return tf.transpose(inputs, perm=[0, 2, 1, 3])\n",
        "\n",
        "  def call(self, inputs):\n",
        "    query, key, value, mask = inputs['query'], inputs['key'], inputs[\n",
        "        'value'], inputs['mask']\n",
        "    batch_size = tf.shape(query)[0]\n",
        "\n",
        "    # 1. WQ, WK, WV에 해당하는 밀집층 지나기\n",
        "    # q : (batch_size, query의 문장 길이, d_model)\n",
        "    # k : (batch_size, key의 문장 길이, d_model)\n",
        "    # v : (batch_size, value의 문장 길이, d_model)\n",
        "    # 참고) 인코더(k, v)-디코더(q) 어텐션에서는 query 길이와 key, value의 길이는 다를 수 있다.\n",
        "    query = self.query_dense(query)\n",
        "    key = self.key_dense(key)\n",
        "    value = self.value_dense(value)\n",
        "\n",
        "    # 2. 헤드 나누기\n",
        "    # q : (batch_size, num_heads, query의 문장 길이, d_model/num_heads)\n",
        "    # k : (batch_size, num_heads, key의 문장 길이, d_model/num_heads)\n",
        "    # v : (batch_size, num_heads, value의 문장 길이, d_model/num_heads)\n",
        "    query = self.split_heads(query, batch_size)\n",
        "    key = self.split_heads(key, batch_size)\n",
        "    value = self.split_heads(value, batch_size)\n",
        "\n",
        "    # 3. 스케일드 닷 프로덕트 어텐션. 앞서 구현한 함수 사용.\n",
        "    # (batch_size, num_heads, query의 문장 길이, d_model/num_heads)\n",
        "    scaled_attention, _ = scaled_dot_product_attention(query, key, value, mask)\n",
        "    # (batch_size, query의 문장 길이, num_heads, d_model/num_heads)\n",
        "    scaled_attention = tf.transpose(scaled_attention, perm=[0, 2, 1, 3])\n",
        "\n",
        "    # 4. 헤드 연결(concatenate)하기\n",
        "    # (batch_size, query의 문장 길이, d_model)\n",
        "    concat_attention = tf.reshape(scaled_attention,\n",
        "                                  (batch_size, -1, self.d_model))\n",
        "\n",
        "    # 5. WO에 해당하는 밀집층 지나기\n",
        "    # (batch_size, query의 문장 길이, d_model)\n",
        "    outputs = self.dense(concat_attention)\n",
        "\n",
        "    return outputs"
      ],
      "metadata": {
        "id": "GjJegn4U1ZH9"
      },
      "execution_count": null,
      "outputs": []
    },
    {
      "cell_type": "code",
      "source": [
        "def split_heads(inputs, batch_size):\n",
        "  inputs = tf.reshape(\n",
        "      inputs, shape=(batch_size, -1, num_heads, depth))\n",
        "  return tf.transpose(inputs, perm=[0, 2, 1, 3])\n",
        "tmp = tf.constant([1, 2, 3, 4, 5, 6], [7,8,9,10,11,12])\n",
        "split_head()"
      ],
      "metadata": {
        "id": "ifJATriywJbp"
      },
      "execution_count": null,
      "outputs": []
    },
    {
      "cell_type": "code",
      "source": [
        "def encoder_layer(dff, d_model, num_heads, dropout, name=\"encoder_layer\"):\n",
        "  inputs = tf.keras.Input(shape=(None, d_model), name=\"inputs\")\n",
        "\n",
        "  # 인코더는 패딩 마스크 사용\n",
        "  padding_mask = tf.keras.Input(shape=(1, 1, None), name=\"padding_mask\")\n",
        "\n",
        "  # 멀티-헤드 어텐션 (첫번째 서브층 / 셀프 어텐션)\n",
        "  attention = MultiHeadAttention(\n",
        "      d_model, num_heads, name=\"attention\")({\n",
        "          'query': inputs, 'key': inputs, 'value': inputs, # Q = K = V\n",
        "          'mask': padding_mask # 패딩 마스크 사용\n",
        "      })\n",
        "\n",
        "  # 드롭아웃 + 잔차 연결과 층 정규화\n",
        "  attention = tf.keras.layers.Dropout(rate=dropout)(attention)\n",
        "  attention = tf.keras.layers.LayerNormalization(\n",
        "      epsilon=1e-6)(inputs + attention)\n",
        "\n",
        "  # 포지션 와이즈 피드 포워드 신경망 (두번째 서브층)\n",
        "  outputs = tf.keras.layers.Dense(units=dff, activation='relu')(attention)\n",
        "  outputs = tf.keras.layers.Dense(units=d_model)(outputs)\n",
        "\n",
        "  # 드롭아웃 + 잔차 연결과 층 정규화\n",
        "  outputs = tf.keras.layers.Dropout(rate=dropout)(outputs)\n",
        "  outputs = tf.keras.layers.LayerNormalization(\n",
        "      epsilon=1e-6)(attention + outputs)\n",
        "\n",
        "  return tf.keras.Model(\n",
        "      inputs=[inputs, padding_mask], outputs=outputs, name=name)"
      ],
      "metadata": {
        "id": "s6IyTG0swM8r"
      },
      "execution_count": null,
      "outputs": []
    },
    {
      "cell_type": "code",
      "source": [
        "import numpy as np\n",
        "\n",
        "b = tf.convert_to_tensor(np.random.randint(0,2,size=(2,3,2,3)))\n",
        "b\n"
      ],
      "metadata": {
        "colab": {
          "base_uri": "https://localhost:8080/"
        },
        "id": "uH5Z55uzJzup",
        "outputId": "28fd00f4-a831-495d-e32f-81e2cf19697e"
      },
      "execution_count": null,
      "outputs": [
        {
          "output_type": "execute_result",
          "data": {
            "text/plain": [
              "<tf.Tensor: shape=(2, 3, 2, 3), dtype=int64, numpy=\n",
              "array([[[[1, 0, 1],\n",
              "         [0, 1, 0]],\n",
              "\n",
              "        [[0, 0, 1],\n",
              "         [1, 0, 1]],\n",
              "\n",
              "        [[1, 1, 0],\n",
              "         [0, 1, 0]]],\n",
              "\n",
              "\n",
              "       [[[0, 1, 0],\n",
              "         [1, 0, 0]],\n",
              "\n",
              "        [[0, 0, 0],\n",
              "         [1, 1, 1]],\n",
              "\n",
              "        [[1, 0, 1],\n",
              "         [0, 0, 1]]]])>"
            ]
          },
          "metadata": {},
          "execution_count": 20
        }
      ]
    },
    {
      "cell_type": "code",
      "source": [
        "tf.shape(b)[0]"
      ],
      "metadata": {
        "colab": {
          "base_uri": "https://localhost:8080/"
        },
        "id": "-WI-aIMbKBzA",
        "outputId": "ca32552a-b3be-4376-b07e-e5d943ee7b6b"
      },
      "execution_count": null,
      "outputs": [
        {
          "output_type": "execute_result",
          "data": {
            "text/plain": [
              "<tf.Tensor: shape=(), dtype=int32, numpy=2>"
            ]
          },
          "metadata": {},
          "execution_count": 21
        }
      ]
    },
    {
      "cell_type": "code",
      "source": [
        ""
      ],
      "metadata": {
        "id": "83V2-TA2L5Fw"
      },
      "execution_count": null,
      "outputs": []
    }
  ],
  "metadata": {
    "accelerator": "GPU",
    "colab": {
      "collapsed_sections": [],
      "name": "Attention is all you need.ipynb",
      "provenance": [],
      "machine_shape": "hm",
      "background_execution": "on",
      "authorship_tag": "ABX9TyPr4MSp6yVLG6Z446KiDiBG",
      "include_colab_link": true
    },
    "kernelspec": {
      "display_name": "Python 3",
      "name": "python3"
    },
    "language_info": {
      "name": "python"
    }
  },
  "nbformat": 4,
  "nbformat_minor": 0
}