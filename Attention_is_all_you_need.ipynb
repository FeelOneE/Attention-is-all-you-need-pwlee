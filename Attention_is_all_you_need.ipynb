{
  "cells": [
    {
      "cell_type": "markdown",
      "metadata": {
        "id": "view-in-github",
        "colab_type": "text"
      },
      "source": [
        "<a href=\"https://colab.research.google.com/github/FeelOneE/Attention-is-all-you-need-pwlee/blob/main/Attention_is_all_you_need.ipynb\" target=\"_parent\"><img src=\"https://colab.research.google.com/assets/colab-badge.svg\" alt=\"Open In Colab\"/></a>"
      ]
    },
    {
      "cell_type": "markdown",
      "source": [
        "https://github.com/ArazShilabin/english-to-german-translator-using-transformers-from-scratch/blob/main/en_de_translator.ipynb"
      ],
      "metadata": {
        "id": "JocbbF8Vslw0"
      }
    },
    {
      "cell_type": "code",
      "execution_count": 3,
      "metadata": {
        "colab": {
          "base_uri": "https://localhost:8080/"
        },
        "id": "WcIwt_ml8_d4",
        "outputId": "838c2a0c-7141-42df-82b8-b5116f7cced8"
      },
      "outputs": [
        {
          "output_type": "stream",
          "name": "stdout",
          "text": [
            "Mounted at /content/drive\n"
          ]
        }
      ],
      "source": [
        "from google.colab import drive\n",
        "drive.mount('/content/drive')"
      ]
    },
    {
      "cell_type": "code",
      "execution_count": 4,
      "metadata": {
        "colab": {
          "base_uri": "https://localhost:8080/",
          "height": 35
        },
        "id": "6SOiYfOn9G0b",
        "outputId": "315ccdb3-c1a5-4620-836e-a2b6c7361c1c"
      },
      "outputs": [
        {
          "output_type": "execute_result",
          "data": {
            "application/vnd.google.colaboratory.intrinsic+json": {
              "type": "string"
            },
            "text/plain": [
              "'/content'"
            ]
          },
          "metadata": {},
          "execution_count": 4
        }
      ],
      "source": [
        "%pwd"
      ]
    },
    {
      "cell_type": "code",
      "execution_count": 5,
      "metadata": {
        "colab": {
          "base_uri": "https://localhost:8080/"
        },
        "id": "5mHeKPh29RMI",
        "outputId": "f7c91a73-db81-423a-944c-3fa54292c4da"
      },
      "outputs": [
        {
          "output_type": "stream",
          "name": "stdout",
          "text": [
            "/content/drive/MyDrive/스터디/기계이해\n"
          ]
        }
      ],
      "source": [
        "%cd /content/drive/MyDrive/스터디/기계이해"
      ]
    },
    {
      "cell_type": "markdown",
      "metadata": {
        "id": "sBFM8ddN_kqE"
      },
      "source": [
        "# (준비) 데이터셋 및 불용어(non breaking prefix) 데이터 다운로드"
      ]
    },
    {
      "cell_type": "code",
      "execution_count": null,
      "metadata": {
        "colab": {
          "base_uri": "https://localhost:8080/"
        },
        "id": "iWJaOu6-9pyZ",
        "outputId": "d7949c94-e70d-4a57-d2b2-590cafb8e8b4"
      },
      "outputs": [
        {
          "name": "stdout",
          "output_type": "stream",
          "text": [
            "--2021-12-17 10:38:24--  http://www.statmt.org/europarl/v7/de-en.tgz\n",
            "Resolving www.statmt.org (www.statmt.org)... 129.215.197.184\n",
            "Connecting to www.statmt.org (www.statmt.org)|129.215.197.184|:80... connected.\n",
            "HTTP request sent, awaiting response... 301 Moved Permanently\n",
            "Location: https://www.statmt.org/europarl/v7/de-en.tgz [following]\n",
            "--2021-12-17 10:38:24--  https://www.statmt.org/europarl/v7/de-en.tgz\n",
            "Connecting to www.statmt.org (www.statmt.org)|129.215.197.184|:443... connected.\n",
            "HTTP request sent, awaiting response... 200 OK\n",
            "Length: 197785698 (189M) [application/x-gzip]\n",
            "Saving to: ‘de-en.tgz’\n",
            "\n",
            "de-en.tgz           100%[===================>] 188.62M  1.52MB/s    in 2m 4s   \n",
            "\n",
            "2021-12-17 10:40:28 (1.52 MB/s) - ‘de-en.tgz’ saved [197785698/197785698]\n",
            "\n",
            "europarl-v7.de-en.de\n",
            "europarl-v7.de-en.en\n"
          ]
        }
      ],
      "source": [
        "%cd data\n",
        "!wget http://www.statmt.org/europarl/v7/de-en.tgz\n",
        "!tar -xvf de-en.tgz\n",
        "%cd .."
      ]
    },
    {
      "cell_type": "code",
      "execution_count": null,
      "metadata": {
        "colab": {
          "base_uri": "https://localhost:8080/"
        },
        "id": "kwvuTxKw-tFU",
        "outputId": "1d96a98d-8a08-4c26-915d-169908a1391c"
      },
      "outputs": [
        {
          "name": "stdout",
          "output_type": "stream",
          "text": [
            "--2021-12-17 10:50:33--  https://raw.githubusercontent.com/moses-smt/mosesdecoder/master/scripts/share/nonbreaking_prefixes/nonbreaking_prefix.de\n",
            "Resolving raw.githubusercontent.com (raw.githubusercontent.com)... 185.199.108.133, 185.199.109.133, 185.199.110.133, ...\n",
            "Connecting to raw.githubusercontent.com (raw.githubusercontent.com)|185.199.108.133|:443... connected.\n",
            "HTTP request sent, awaiting response... 200 OK\n",
            "Length: 1768 (1.7K) [text/plain]\n",
            "Saving to: ‘nonbreaking_prefix.de’\n",
            "\n",
            "nonbreaking_prefix. 100%[===================>]   1.73K  --.-KB/s    in 0.003s  \n",
            "\n",
            "2021-12-17 10:50:33 (531 KB/s) - ‘nonbreaking_prefix.de’ saved [1768/1768]\n",
            "\n",
            "--2021-12-17 10:50:33--  https://raw.githubusercontent.com/moses-smt/mosesdecoder/master/scripts/share/nonbreaking_prefixes/nonbreaking_prefix.en\n",
            "Resolving raw.githubusercontent.com (raw.githubusercontent.com)... 185.199.108.133, 185.199.109.133, 185.199.110.133, ...\n",
            "Connecting to raw.githubusercontent.com (raw.githubusercontent.com)|185.199.108.133|:443... connected.\n",
            "HTTP request sent, awaiting response... 200 OK\n",
            "Length: 1339 (1.3K) [text/plain]\n",
            "Saving to: ‘nonbreaking_prefix.en’\n",
            "\n",
            "nonbreaking_prefix. 100%[===================>]   1.31K  --.-KB/s    in 0s      \n",
            "\n",
            "2021-12-17 10:50:34 (20.0 MB/s) - ‘nonbreaking_prefix.en’ saved [1339/1339]\n",
            "\n"
          ]
        }
      ],
      "source": [
        "%cd data\n",
        "!wget https://raw.githubusercontent.com/moses-smt/mosesdecoder/master/scripts/share/nonbreaking_prefixes/nonbreaking_prefix.de\n",
        "!wget https://raw.githubusercontent.com/moses-smt/mosesdecoder/master/scripts/share/nonbreaking_prefixes/nonbreaking_prefix.en\n",
        "%cd .."
      ]
    },
    {
      "cell_type": "code",
      "execution_count": 6,
      "metadata": {
        "colab": {
          "base_uri": "https://localhost:8080/"
        },
        "id": "cfrhPzrt7_1y",
        "outputId": "ab07ae1f-e3c2-42c9-e631-35c782aa7c01"
      },
      "outputs": [
        {
          "output_type": "stream",
          "name": "stdout",
          "text": [
            "/content/drive/MyDrive/스터디/기계이해/data\n",
            "total 2298971\n",
            "-rw------- 1 root root 296468668 Dec 22 07:40 cleaning.de-en.en\n",
            "-rw------- 1 root root 622086459 Dec 22 07:40 cleaning.en-de.de\n",
            "-rw------- 1 root root 622086459 Dec 22 06:08 cleaning.en-de.en\n",
            "-rw------- 1 root root 197785698 May 16  2012 de-en.tgz\n",
            "-rw------- 1 root root 328463491 Nov 21  2011 europarl-v7.de-en.de\n",
            "-rw------- 1 root root 287250069 Nov 21  2011 europarl-v7.de-en.en\n",
            "-rw------- 1 root root      1768 Dec 17 10:50 nonbreaking_prefix.de\n",
            "-rw------- 1 root root      1339 Dec 17 10:50 nonbreaking_prefix.en\n",
            "/content/drive/MyDrive/스터디/기계이해\n"
          ]
        }
      ],
      "source": [
        "%cd data\n",
        "%ls -al\n",
        "%cd .."
      ]
    },
    {
      "cell_type": "markdown",
      "metadata": {
        "id": "5O1Qs9cc_VGE"
      },
      "source": [
        "# **step 1. 라이브러리 추가**"
      ]
    },
    {
      "cell_type": "code",
      "execution_count": 7,
      "metadata": {
        "id": "iEJUmBOz-0NU"
      },
      "outputs": [],
      "source": [
        "import numpy as np\n",
        "import math\n",
        "import re\n",
        "import time\n",
        "\n",
        "import tensorflow as tf\n",
        "from tensorflow.keras import layers\n",
        "import tensorflow_datasets as tfds"
      ]
    },
    {
      "cell_type": "markdown",
      "metadata": {
        "id": "FpHWeMB0_4ka"
      },
      "source": [
        "# step 2. 데이터 전처리"
      ]
    },
    {
      "cell_type": "code",
      "execution_count": 8,
      "metadata": {
        "colab": {
          "base_uri": "https://localhost:8080/"
        },
        "id": "FzWBl0miORKc",
        "outputId": "c8ff408f-5386-4fe6-ea4b-79d56ed5b3e4"
      },
      "outputs": [
        {
          "output_type": "stream",
          "name": "stdout",
          "text": [
            "Resumption of the session\n",
            "I declare resumed the se\n",
            "Wiederaufnahme der Sitzungsperiode\n",
            "Ich erkläre die\n"
          ]
        }
      ],
      "source": [
        "with open(\"data/europarl-v7.de-en.en\", mode='r', encoding=\"utf-8\") as f:\n",
        "    text_en = f.read()\n",
        "\n",
        "with open(\"data/europarl-v7.de-en.de\", mode='r', encoding=\"utf-8\") as f:\n",
        "    text_de = f.read()\n",
        "\n",
        "print(text_en[:50])\n",
        "print(text_de[:50])"
      ]
    },
    {
      "cell_type": "code",
      "execution_count": 9,
      "metadata": {
        "colab": {
          "base_uri": "https://localhost:8080/"
        },
        "id": "2yc0naN_CGNj",
        "outputId": "42ac7d51-1437-4a71-9683-ce7ad810fb0a"
      },
      "outputs": [
        {
          "output_type": "execute_result",
          "data": {
            "text/plain": [
              "['A', 'B', 'C', 'D', 'E']"
            ]
          },
          "metadata": {},
          "execution_count": 9
        }
      ],
      "source": [
        "with open(\"data/nonbreaking_prefix.en\", mode=\"r\", encoding=\"utf-8\") as f:\n",
        "  non_breaking_prefix_en = f.readlines()\n",
        "\n",
        "tmp = []\n",
        "for line in non_breaking_prefix_en:\n",
        "  if line[0] == \"#\" or line[0] == \"\\n\" :\n",
        "    pass\n",
        "  else:\n",
        "    tmp.append(  (line.replace(\"\\n\",\"\")).replace(\"#NUMERIC_ONLY#\",\"\").strip()  )\n",
        "non_breaking_prefix_en = tmp\n",
        "non_breaking_prefix_en[:5]"
      ]
    },
    {
      "cell_type": "code",
      "execution_count": 10,
      "metadata": {
        "colab": {
          "base_uri": "https://localhost:8080/"
        },
        "id": "qcbNAezw9ybC",
        "outputId": "24622d07-aa7c-4fb4-e4c6-bda3156ac09a"
      },
      "outputs": [
        {
          "output_type": "execute_result",
          "data": {
            "text/plain": [
              "['A', 'B', 'C', 'D', 'E']"
            ]
          },
          "metadata": {},
          "execution_count": 10
        }
      ],
      "source": [
        "with open(\"data/nonbreaking_prefix.de\", mode=\"r\", encoding=\"utf-8\") as f:\n",
        "  non_breaking_prefix_de = f.readlines()\n",
        "\n",
        "tmp = []\n",
        "for line in non_breaking_prefix_de:\n",
        "  if line[0] == \"#\" or line[0] == \"\\n\" :\n",
        "    pass\n",
        "  else:\n",
        "    tmp.append(  (line.replace(\"\\n\",\"\")).replace(\"#NUMERIC_ONLY#\",\"\").strip()  )\n",
        "non_breaking_prefix_de = tmp\n",
        "non_breaking_prefix_de[:5]"
      ]
    },
    {
      "cell_type": "code",
      "source": [
        "for prefix in non_breaking_prefix_en:\n",
        "    text_en = text_en.replace(prefix, prefix + '###')\n",
        "text_en = re.sub(r\"\\.(?=[0-9]|[a-z]|[A-Z])\", \".###\", text_en)\n",
        "text_en = re.sub(r\"\\.###\", '', text_en)\n",
        "text_en = re.sub(r\" +\", ' ', text_en)\n",
        "text_en = text_en.replace('###', ' ')\n",
        "\n",
        "text_en = text_en.split(\"\\n\")\n",
        "\n",
        "for prefix in non_breaking_prefix_de:\n",
        "    text_de = text_de.replace(prefix, prefix + '###')\n",
        "text_de = re.sub(r\"\\.(?=[0-9]|[a-z]|[A-Z])\", \".###\", text_de)\n",
        "text_de = re.sub(r\"\\.###\", '', text_de)\n",
        "text_de = re.sub(r\" +\", ' ', text_de)\n",
        "text_de = text_de.replace('###', ' ')\n",
        "\n",
        "text_de = text_de.split(\"\\n\")"
      ],
      "metadata": {
        "id": "esPHoblet5Xf"
      },
      "execution_count": null,
      "outputs": []
    },
    {
      "cell_type": "code",
      "source": [
        "print(text_en[:5])\n",
        "print(text_de[:5])"
      ],
      "metadata": {
        "colab": {
          "base_uri": "https://localhost:8080/"
        },
        "id": "OR3NgoEUxGXA",
        "outputId": "e631174c-2f46-44da-fbb8-6a83d1adf0fc"
      },
      "execution_count": null,
      "outputs": [
        {
          "output_type": "stream",
          "name": "stdout",
          "text": [
            "['R esumption of the session', 'I  declare resumed the session of the E uropean P arliament adjourned on F riday 17 D ecember 1999, and I  would like once again to wish you a happ y new year in the hope that you enjoyed a pleasant festiv e period.', \"A lthough, as you will hav e seen, the dreaded 'millennium bug' failed to materialise, still the people in a number of countries suffered a series of natural disasters that truly were dreadful.\", 'Y ou hav e requested a debate on this subject in the course of the next few days, during this part-session.', \"I n the meantime, I  should like to observ e a minute' s silence, as a number of M embers hav e requested, on behalf of all the v ictims concerned, particularly those of the terrible storms, in the v arious countries of the E uropean U nion.\"]\n",
            "['W i  e d e r a u f n a h m e  d e r  S i  t z u n g s p e r i  o d e ', 'I  c h  e r k l är e  d i  e  a m  F r e i  t a g , d e m  1 7 . D e z e m b e r  u n t e r b r o c h e n e  S i  t z u n g s p e r i  o d e  d e s  E u r o p äi  s c h e n  P a r l a m e n t s  f ür  w i  e d e r a u f g e n o m m e n , w ün s c h e  I  h n e n  n o c h m a l s  a l l e s  G u t e  z u m  J a h r e s w e c h s e l  u n d  h o f f e , d a ß S i  e  s c h ön e  F e r i  e n  h a t t e n .', 'W i  e  S i  e  f e s t s t e l l e n  k o n n t e n , i  s t  d e r  g e f ür c h t e t e  \"M i  l l e n i  u m -B u g  \" n i  c h t  e i  n g e t r e t e n . D o c h  s i  n d  B ür g e r  e i  n i  g e r  u n s e r e r  M i  t g l i  e d s t a a t e n  O p f e r  v   o n  s c h r e c k l i  c h e n  N a t u r k a t a s t r o p h e n  g e w o r d e n .', 'I  m  P a r l a m e n t  b e s t e h t  d e r  W u n s c h  n a c h  e i  n e r  A u s s p r a c h e  i  m  V  e r l a u f  d i  e s e r  S i  t z u n g s p e r i  o d e  i  n  d e n  n äc h s t e n  T a g e n .', 'H e u t e  m öc h t e  i  c h  S i  e  b i  t t e n  - d a s  i  s t  a u c h  d e r  W u n s c h  e i  n i  g e r  K o l l e g i  n n e n  u n d  K o l l e g e n  -, a l l e n  O p f e r n  d e r  S t ür m e , i  n s b e s o n d e r e  i  n  d e n  v   e r s c h i  e d e n e n  L än d e r n  d e r  E u r o p äi  s c h e n  U n i  o n , i  n  e i  n e r  S c h w e i  g e m i  n u t e  z u  g e d e n k e n .']\n"
          ]
        }
      ]
    },
    {
      "cell_type": "code",
      "source": [
        "# 전처리한 데이터 저장\n",
        "with open(\"data/cleaning.de-en.en\",\"w\") as f:\n",
        "  f.write('\\n'.join(text_en))\n",
        "\n",
        "with open(\"data/cleaning.en-de.de\",\"w\") as f:\n",
        "  f.write('\\n'.join(text_de))"
      ],
      "metadata": {
        "id": "IcsUF0roun_v"
      },
      "execution_count": null,
      "outputs": []
    },
    {
      "cell_type": "code",
      "source": [
        "# 전처리한 데이터 불러오기\n",
        "with open(\"data/cleaning.de-en.en\",\"r+\") as f:\n",
        "  text_en = f.read()\n",
        "\n",
        "with open(\"data/cleaning.en-de.de\",\"r+\") as f:\n",
        "  text_de = f.read()"
      ],
      "metadata": {
        "id": "ZYq2i8aqu_xr"
      },
      "execution_count": 11,
      "outputs": []
    },
    {
      "cell_type": "code",
      "source": [
        "print(text_en[:50])\n",
        "print(text_de[:500])"
      ],
      "metadata": {
        "colab": {
          "base_uri": "https://localhost:8080/"
        },
        "id": "qVnuH-XPwliY",
        "outputId": "b27e2866-d7b2-4c52-b8c4-6611f5e890c7"
      },
      "execution_count": 12,
      "outputs": [
        {
          "output_type": "stream",
          "name": "stdout",
          "text": [
            "R esumption of the session\n",
            "I  declare resumed the \n",
            "W i  e d e r a u f n a h m e  d e r  S i  t z u n g s p e r i  o d e \n",
            "I  c h  e r k l är e  d i  e  a m  F r e i  t a g , d e m  1 7 . D e z e m b e r  u n t e r b r o c h e n e  S i  t z u n g s p e r i  o d e  d e s  E u r o p äi  s c h e n  P a r l a m e n t s  f ür  w i  e d e r a u f g e n o m m e n , w ün s c h e  I  h n e n  n o c h m a l s  a l l e s  G u t e  z u m  J a h r e s w e c h s e l  u n d  h o f f e , d a ß S i  e  s c h ön e  F e r i  e n  h a t t e n .\n",
            "W i  e  S i  e  f e s \n"
          ]
        }
      ]
    },
    {
      "cell_type": "markdown",
      "source": [
        "# stop 3. 토크나이저\n",
        "> 토크나이저 :  각 텍스트에 대응하는 숫자들을 이해한다. 그러므로, 우리는 어떤 텍스트를 어떤식으로 분리해서, 분리된 텍스트를 특정한 숫자(id)에 대응시키고, 해당 id를 모델의 입력으로 넣어주는 모듈.\n",
        "크게 3가지 방식이 사용된다 : word-based, character-based, subword-based.\n",
        "\n",
        ">  subword-based : word-based와 character-based 사이의 방식이다. 자주 사용되는 단어들은 subword로 분리하지 않고, 자주 등장하지 않는 단어들은 의미있는 subword로 분리하는 방법이다. 예를 들어, dogs라는 단어는 자주 사용하는 dog와 ##s 로 분리할 수 있다. 영어에서 가장 좋은 성능을 보이고 있느느 tokenizer 이다.\n",
        "\n",
        "> \"##prefix' : BERT가 사용하는 subword tokenizer인 wordpiece tokenizer에서 사용하는 방식인데, 특정 token 앞에 ##가 붙는다면 해당 token은 독립적으로 사용할 수 있는 token이 아닌, 다른 단어를 구성하는 일부라는 의미이다.\n",
        "\n"
      ],
      "metadata": {
        "id": "ZjGSJod6ep28"
      }
    },
    {
      "cell_type": "code",
      "source": [
        "!pip install transformers"
      ],
      "metadata": {
        "id": "ZU_Cbkpwf4Mf"
      },
      "execution_count": null,
      "outputs": []
    },
    {
      "cell_type": "code",
      "source": [
        "%tensorflow_version 2.x\n",
        "from transformers import AutoTokenizer\n",
        "\n",
        "tokenizer_en = AutoTokenizer.from_pretrained('bert-base-uncased')\n",
        "tokenizer_de = AutoTokenizer.from_pretrained('GroNLP/bert-base-dutch-cased')"
      ],
      "metadata": {
        "id": "jYB0hz-VfwUe"
      },
      "execution_count": null,
      "outputs": []
    },
    {
      "cell_type": "code",
      "source": [
        "tokenizer_en.vocab_size, tokenizer_de.vocab_size"
      ],
      "metadata": {
        "colab": {
          "base_uri": "https://localhost:8080/"
        },
        "id": "lFjHEjDkjRQF",
        "outputId": "d4c2b689-0ab7-4512-e8f7-57d16c2ecdee"
      },
      "execution_count": 15,
      "outputs": [
        {
          "output_type": "execute_result",
          "data": {
            "text/plain": [
              "(30522, 30073)"
            ]
          },
          "metadata": {},
          "execution_count": 15
        }
      ]
    },
    {
      "cell_type": "code",
      "source": [
        "encoded_input = tokenizer_en(text_en, return_tensors='tf')\n",
        "encoded_input"
      ],
      "metadata": {
        "id": "vfkqVGJGtunv"
      },
      "execution_count": null,
      "outputs": []
    },
    {
      "cell_type": "code",
      "source": [
        "encoded_output = tokenizer_de(text_de, return_tensors='tf')\n",
        "encoded_output[:5]"
      ],
      "metadata": {
        "id": "WQZFbzFl-AVY"
      },
      "execution_count": null,
      "outputs": []
    },
    {
      "cell_type": "code",
      "source": [
        "VOCAB_SIZE_EN = tokenizer_en.vocab_size + 2\n",
        "VOCAB_SIZE_DE = tokenizer_de.vocab_size + 2\n",
        "\n",
        "# we put start and end tokens as size-1 and size-2 which are the same as\n",
        "# tokenizer_size and tokenizer_size+1 because the words are from [0 to ts-1]\n",
        "# tokenize_en.encode(sentence) give a list then list + list + list appends them\n",
        "inputs = [[VOCAB_SIZE_EN-2] + tokenizer_en.encode(sentence) + [VOCAB_SIZE_EN-1]\n",
        "          for sentence in text_en]\n",
        "outputs = [[VOCAB_SIZE_DE-2] + tokenizer_de.encode(sentence) + [VOCAB_SIZE_DE-1]\n",
        "          for sentence in text_de]"
      ],
      "metadata": {
        "id": "f4RN0QqpdX3d"
      },
      "execution_count": null,
      "outputs": []
    },
    {
      "cell_type": "code",
      "source": [
        ""
      ],
      "metadata": {
        "id": "VcNdLsfVdeFC"
      },
      "execution_count": null,
      "outputs": []
    }
  ],
  "metadata": {
    "accelerator": "GPU",
    "colab": {
      "collapsed_sections": [],
      "name": "Attention is all you need.ipynb",
      "provenance": [],
      "machine_shape": "hm",
      "background_execution": "on",
      "authorship_tag": "ABX9TyN8jUlMf/QWC0zYqYgPiV5C",
      "include_colab_link": true
    },
    "kernelspec": {
      "display_name": "Python 3",
      "name": "python3"
    },
    "language_info": {
      "name": "python"
    }
  },
  "nbformat": 4,
  "nbformat_minor": 0
}